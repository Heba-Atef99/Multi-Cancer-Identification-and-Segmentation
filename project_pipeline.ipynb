{
 "cells": [
  {
   "attachments": {},
   "cell_type": "markdown",
   "metadata": {},
   "source": [
    "# Multi Cancer Identification And Segmentation"
   ]
  },
  {
   "attachments": {},
   "cell_type": "markdown",
   "metadata": {},
   "source": [
    "## Problem Definition"
   ]
  },
  {
   "attachments": {},
   "cell_type": "markdown",
   "metadata": {},
   "source": [
    "Using ultrasound scans we are trying to:\n",
    "\n",
    "1. Classify the scan to:\n",
    "\n",
    "    1.1 Brain scan\n",
    "\n",
    "        1.1.1 Classify Brain Scan to:\n",
    "\n",
    "            a. Tumor\n",
    "\n",
    "                a.1. Segment the tumor\n",
    "\n",
    "            b. No Tumor\n",
    "\n",
    "    1.2 Breast scan\n",
    "\n",
    "        1.2.1 Classify Breast Scan to:\n",
    "\n",
    "            a. Normal\n",
    "\n",
    "            b. Bengin\n",
    "\n",
    "                b.1. Segment the tumor\n",
    "\n",
    "            c. Malignant\n",
    "\n",
    "                c.1. Segment the tumor"
   ]
  },
  {
   "attachments": {},
   "cell_type": "markdown",
   "metadata": {},
   "source": [
    "## Dataset"
   ]
  },
  {
   "attachments": {},
   "cell_type": "markdown",
   "metadata": {},
   "source": [
    "You can check the dataset though this [link](https://drive.google.com/drive/folders/1zYb6PLy-ZsOeQ__HnXzny7wb1UgRjy0M?usp=share_link)"
   ]
  },
  {
   "attachments": {},
   "cell_type": "markdown",
   "metadata": {},
   "source": [
    "Our data is organized as follows:\n",
    "\n",
    "```\n",
    "└── Dataset_CV_Project/\n",
    "    └── Dataset_CV_Project/  \n",
    "        ├── Brain scans/\n",
    "            ├── No tumor/\n",
    "                ├── Test/\n",
    "                └── Train/\n",
    "            |\n",
    "            └── Tumor/\n",
    "                ├── TEST_masks/\n",
    "                ├── TRAIN_masks/\n",
    "                ├── Test/\n",
    "                └── Train/\n",
    "        |\n",
    "        └── Breast scans/\n",
    "            ├── benign\n",
    "                ├── Test/\n",
    "                └── Train/\n",
    "            |\n",
    "            ├── malignant\n",
    "                ├── Test/\n",
    "                └── Train/\n",
    "            |\n",
    "            └── normal\n",
    "                ├── Test/\n",
    "                └── Train/\n",
    "```\n"
   ]
  },
  {
   "attachments": {},
   "cell_type": "markdown",
   "metadata": {},
   "source": [
    "# Project Pipeline"
   ]
  },
  {
   "attachments": {},
   "cell_type": "markdown",
   "metadata": {},
   "source": [
    "## 1. Preprocessing"
   ]
  },
  {
   "attachments": {},
   "cell_type": "markdown",
   "metadata": {},
   "source": [
    "## 2. Classify Scan Brain or Breast"
   ]
  },
  {
   "attachments": {},
   "cell_type": "markdown",
   "metadata": {},
   "source": [
    "## Brain Scan"
   ]
  },
  {
   "attachments": {},
   "cell_type": "markdown",
   "metadata": {},
   "source": [
    "### 3. Classify Brain Scan (Tumor or No Tumor)"
   ]
  },
  {
   "attachments": {},
   "cell_type": "markdown",
   "metadata": {},
   "source": [
    "### 4. Segment Tumor"
   ]
  },
  {
   "attachments": {},
   "cell_type": "markdown",
   "metadata": {},
   "source": [
    "## Breast Scan"
   ]
  },
  {
   "attachments": {},
   "cell_type": "markdown",
   "metadata": {},
   "source": [
    "### 5. Classify Breast Scan (Normal, Bengin, or Malignant)"
   ]
  },
  {
   "attachments": {},
   "cell_type": "markdown",
   "metadata": {},
   "source": [
    "### 6. Segment Tumor"
   ]
  }
 ],
 "metadata": {
  "language_info": {
   "name": "python"
  },
  "orig_nbformat": 4
 },
 "nbformat": 4,
 "nbformat_minor": 2
}
